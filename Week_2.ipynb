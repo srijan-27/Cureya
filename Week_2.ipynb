{
  "nbformat": 4,
  "nbformat_minor": 0,
  "metadata": {
    "colab": {
      "name": "Week-2",
      "provenance": [],
      "collapsed_sections": [],
      "include_colab_link": true
    },
    "kernelspec": {
      "name": "python3",
      "display_name": "Python 3"
    },
    "language_info": {
      "name": "python"
    }
  },
  "cells": [
    {
      "cell_type": "markdown",
      "metadata": {
        "id": "view-in-github",
        "colab_type": "text"
      },
      "source": [
        "<a href=\"https://colab.research.google.com/github/srijan-27/Cureya/blob/main/Week_2.ipynb\" target=\"_parent\"><img src=\"https://colab.research.google.com/assets/colab-badge.svg\" alt=\"Open In Colab\"/></a>"
      ]
    },
    {
      "cell_type": "markdown",
      "metadata": {
        "id": "gz4HjEfDfMUN"
      },
      "source": [
        "## Cureya Week-2 Tasks\n",
        "\n",
        "> **Executed By: Srijan Rastogi | srastogi751@gmail.com**\n",
        "\n"
      ]
    },
    {
      "cell_type": "markdown",
      "metadata": {
        "id": "hPGNq662lawZ"
      },
      "source": [
        "### **Define: Dictionaries, lists, tuples, set**"
      ]
    },
    {
      "cell_type": "markdown",
      "metadata": {
        "id": "zzNgAh3ZmX2E"
      },
      "source": [
        "**Dictionary:**\n",
        "\n",
        ">  A Python dictionary is an unordered collection. Dictionaries are written with curly brackets, and they have keys and values. You can access to the list of keys or values independently.\n",
        "\n"
      ]
    },
    {
      "cell_type": "code",
      "metadata": {
        "colab": {
          "base_uri": "https://localhost:8080/"
        },
        "id": "BTgy5lfNmluS",
        "outputId": "5b456b96-18a4-4ec9-9bce-d785eeb16243"
      },
      "source": [
        "my_info = {\"Name\": \"Srijan\", \"Age\": 21, \"Sex\": \"Male\", \"Skills\": [\"python\", \"c++\", \"html\", \"css\", \"data-science\"]}\n",
        "my_info"
      ],
      "execution_count": 1,
      "outputs": [
        {
          "output_type": "execute_result",
          "data": {
            "text/plain": [
              "{'Age': 21,\n",
              " 'Name': 'Srijan',\n",
              " 'Sex': 'Male',\n",
              " 'Skills': ['python', 'c++', 'html', 'css', 'data-science']}"
            ]
          },
          "metadata": {
            "tags": []
          },
          "execution_count": 1
        }
      ]
    },
    {
      "cell_type": "code",
      "metadata": {
        "colab": {
          "base_uri": "https://localhost:8080/"
        },
        "id": "SKLr0s4qngvy",
        "outputId": "5869222d-e9cd-43c7-c3cc-2b0790005ef1"
      },
      "source": [
        "my_info.keys()"
      ],
      "execution_count": 2,
      "outputs": [
        {
          "output_type": "execute_result",
          "data": {
            "text/plain": [
              "dict_keys(['Name', 'Age', 'Sex', 'Skills'])"
            ]
          },
          "metadata": {
            "tags": []
          },
          "execution_count": 2
        }
      ]
    },
    {
      "cell_type": "code",
      "metadata": {
        "colab": {
          "base_uri": "https://localhost:8080/"
        },
        "id": "G0ZUho2dnVlO",
        "outputId": "a3d87d93-be70-4058-b077-3480775414f2"
      },
      "source": [
        "my_info.values()"
      ],
      "execution_count": 3,
      "outputs": [
        {
          "output_type": "execute_result",
          "data": {
            "text/plain": [
              "dict_values(['Srijan', 21, 'Male', ['python', 'c++', 'html', 'css', 'data-science']])"
            ]
          },
          "metadata": {
            "tags": []
          },
          "execution_count": 3
        }
      ]
    },
    {
      "cell_type": "markdown",
      "metadata": {
        "id": "-m12ouIfntrX"
      },
      "source": [
        "**Lists:**\n",
        "\n",
        "> A list is a type of container in Python that is used to store multiple data sets at the same time. A list in Python is written within square brackets, [ ]. Each element in the list has its own distinct position and index.\n",
        "\n"
      ]
    },
    {
      "cell_type": "code",
      "metadata": {
        "colab": {
          "base_uri": "https://localhost:8080/"
        },
        "id": "hguwLuNMoPXT",
        "outputId": "ac15ba73-e7a8-4a17-9cf4-05c3de6df806"
      },
      "source": [
        "fruits = [\"apple\", \"mango\", \"banana\", \"orange\", 4]\n",
        "fruits"
      ],
      "execution_count": 4,
      "outputs": [
        {
          "output_type": "execute_result",
          "data": {
            "text/plain": [
              "['apple', 'mango', 'banana', 'orange', 4]"
            ]
          },
          "metadata": {
            "tags": []
          },
          "execution_count": 4
        }
      ]
    },
    {
      "cell_type": "code",
      "metadata": {
        "colab": {
          "base_uri": "https://localhost:8080/",
          "height": 35
        },
        "id": "_zAr_8Pjoro8",
        "outputId": "fa619483-1b82-49ea-dc92-56be11333d16"
      },
      "source": [
        "fruits[2]"
      ],
      "execution_count": 5,
      "outputs": [
        {
          "output_type": "execute_result",
          "data": {
            "application/vnd.google.colaboratory.intrinsic+json": {
              "type": "string"
            },
            "text/plain": [
              "'banana'"
            ]
          },
          "metadata": {
            "tags": []
          },
          "execution_count": 5
        }
      ]
    },
    {
      "cell_type": "markdown",
      "metadata": {
        "id": "u6ZEqBSjo28K"
      },
      "source": [
        "**Tuples:**\n",
        "\n",
        "> A tuple object is similar to a list, but it cannot be changed. Tuples are immutable sequences, which means their values cannot be changed after initialization. You use a tuple to represent fixed collections of items.\n",
        "\n"
      ]
    },
    {
      "cell_type": "code",
      "metadata": {
        "colab": {
          "base_uri": "https://localhost:8080/"
        },
        "id": "lSk1K43QoujJ",
        "outputId": "9cad5cbe-a2e0-4896-a8c4-77678d5066cd"
      },
      "source": [
        "weekdays = (\"Monday\", \"Tuesday\", \"Wednesday\", \"Thursday\", \"Friday\", \"Saturday\", \"Sunday\")\n",
        "weekdays"
      ],
      "execution_count": 6,
      "outputs": [
        {
          "output_type": "execute_result",
          "data": {
            "text/plain": [
              "('Monday', 'Tuesday', 'Wednesday', 'Thursday', 'Friday', 'Saturday', 'Sunday')"
            ]
          },
          "metadata": {
            "tags": []
          },
          "execution_count": 6
        }
      ]
    },
    {
      "cell_type": "code",
      "metadata": {
        "colab": {
          "base_uri": "https://localhost:8080/",
          "height": 35
        },
        "id": "3ymzgsr8pnbB",
        "outputId": "22533449-e48c-4b87-ffb8-46546526f7ed"
      },
      "source": [
        "weekdays[2]"
      ],
      "execution_count": 7,
      "outputs": [
        {
          "output_type": "execute_result",
          "data": {
            "application/vnd.google.colaboratory.intrinsic+json": {
              "type": "string"
            },
            "text/plain": [
              "'Wednesday'"
            ]
          },
          "metadata": {
            "tags": []
          },
          "execution_count": 7
        }
      ]
    },
    {
      "cell_type": "markdown",
      "metadata": {
        "id": "QHB5Jlp_p-BH"
      },
      "source": [
        "**Sets:**\n",
        "\n",
        "> They are unordered collections of unique and immutable objects. Sets do not allow multiple occurrences of the same element, they can be used to effectively prevent duplicate values.\n",
        "\n"
      ]
    },
    {
      "cell_type": "code",
      "metadata": {
        "colab": {
          "base_uri": "https://localhost:8080/"
        },
        "id": "_moDj1ScqFPS",
        "outputId": "2f1498a5-d8ee-4110-f114-6875e3ca6389"
      },
      "source": [
        "even_no = {2, 4, 6, 8, 10, 2, 4}\n",
        "even_no"
      ],
      "execution_count": 8,
      "outputs": [
        {
          "output_type": "execute_result",
          "data": {
            "text/plain": [
              "{2, 4, 6, 8, 10}"
            ]
          },
          "metadata": {
            "tags": []
          },
          "execution_count": 8
        }
      ]
    },
    {
      "cell_type": "markdown",
      "metadata": {
        "id": "AakqAWQzqdF0"
      },
      "source": [
        "### **Read CSV File**"
      ]
    },
    {
      "cell_type": "code",
      "metadata": {
        "colab": {
          "base_uri": "https://localhost:8080/",
          "height": 421
        },
        "id": "PDIJR3jiqjKx",
        "outputId": "4b6c2cfd-8e9e-4707-b9f3-1b40468e60eb"
      },
      "source": [
        "import pandas as pd\n",
        "url = \"https://raw.githubusercontent.com/srijan-27/Cureya/main/company_sales_data.csv\"\n",
        "data = pd.read_csv(url)\n",
        "data"
      ],
      "execution_count": 9,
      "outputs": [
        {
          "output_type": "execute_result",
          "data": {
            "text/html": [
              "<div>\n",
              "<style scoped>\n",
              "    .dataframe tbody tr th:only-of-type {\n",
              "        vertical-align: middle;\n",
              "    }\n",
              "\n",
              "    .dataframe tbody tr th {\n",
              "        vertical-align: top;\n",
              "    }\n",
              "\n",
              "    .dataframe thead th {\n",
              "        text-align: right;\n",
              "    }\n",
              "</style>\n",
              "<table border=\"1\" class=\"dataframe\">\n",
              "  <thead>\n",
              "    <tr style=\"text-align: right;\">\n",
              "      <th></th>\n",
              "      <th>month_number</th>\n",
              "      <th>facecream</th>\n",
              "      <th>facewash</th>\n",
              "      <th>toothpaste</th>\n",
              "      <th>bathingsoap</th>\n",
              "      <th>shampoo</th>\n",
              "      <th>moisturizer</th>\n",
              "      <th>total_units</th>\n",
              "      <th>total_profit</th>\n",
              "    </tr>\n",
              "  </thead>\n",
              "  <tbody>\n",
              "    <tr>\n",
              "      <th>0</th>\n",
              "      <td>1</td>\n",
              "      <td>2500</td>\n",
              "      <td>1500</td>\n",
              "      <td>5200</td>\n",
              "      <td>9200</td>\n",
              "      <td>1200</td>\n",
              "      <td>1500</td>\n",
              "      <td>21100</td>\n",
              "      <td>211000</td>\n",
              "    </tr>\n",
              "    <tr>\n",
              "      <th>1</th>\n",
              "      <td>2</td>\n",
              "      <td>2630</td>\n",
              "      <td>1200</td>\n",
              "      <td>5100</td>\n",
              "      <td>6100</td>\n",
              "      <td>2100</td>\n",
              "      <td>1200</td>\n",
              "      <td>18330</td>\n",
              "      <td>183300</td>\n",
              "    </tr>\n",
              "    <tr>\n",
              "      <th>2</th>\n",
              "      <td>3</td>\n",
              "      <td>2140</td>\n",
              "      <td>1340</td>\n",
              "      <td>4550</td>\n",
              "      <td>9550</td>\n",
              "      <td>3550</td>\n",
              "      <td>1340</td>\n",
              "      <td>22470</td>\n",
              "      <td>224700</td>\n",
              "    </tr>\n",
              "    <tr>\n",
              "      <th>3</th>\n",
              "      <td>4</td>\n",
              "      <td>3400</td>\n",
              "      <td>1130</td>\n",
              "      <td>5870</td>\n",
              "      <td>8870</td>\n",
              "      <td>1870</td>\n",
              "      <td>1130</td>\n",
              "      <td>22270</td>\n",
              "      <td>222700</td>\n",
              "    </tr>\n",
              "    <tr>\n",
              "      <th>4</th>\n",
              "      <td>5</td>\n",
              "      <td>3600</td>\n",
              "      <td>1740</td>\n",
              "      <td>4560</td>\n",
              "      <td>7760</td>\n",
              "      <td>1560</td>\n",
              "      <td>1740</td>\n",
              "      <td>20960</td>\n",
              "      <td>209600</td>\n",
              "    </tr>\n",
              "    <tr>\n",
              "      <th>5</th>\n",
              "      <td>6</td>\n",
              "      <td>2760</td>\n",
              "      <td>1555</td>\n",
              "      <td>4890</td>\n",
              "      <td>7490</td>\n",
              "      <td>1890</td>\n",
              "      <td>1555</td>\n",
              "      <td>20140</td>\n",
              "      <td>201400</td>\n",
              "    </tr>\n",
              "    <tr>\n",
              "      <th>6</th>\n",
              "      <td>7</td>\n",
              "      <td>2980</td>\n",
              "      <td>1120</td>\n",
              "      <td>4780</td>\n",
              "      <td>8980</td>\n",
              "      <td>1780</td>\n",
              "      <td>1120</td>\n",
              "      <td>29550</td>\n",
              "      <td>295500</td>\n",
              "    </tr>\n",
              "    <tr>\n",
              "      <th>7</th>\n",
              "      <td>8</td>\n",
              "      <td>3700</td>\n",
              "      <td>1400</td>\n",
              "      <td>5860</td>\n",
              "      <td>9960</td>\n",
              "      <td>2860</td>\n",
              "      <td>1400</td>\n",
              "      <td>36140</td>\n",
              "      <td>361400</td>\n",
              "    </tr>\n",
              "    <tr>\n",
              "      <th>8</th>\n",
              "      <td>9</td>\n",
              "      <td>3540</td>\n",
              "      <td>1780</td>\n",
              "      <td>6100</td>\n",
              "      <td>8100</td>\n",
              "      <td>2100</td>\n",
              "      <td>1780</td>\n",
              "      <td>23400</td>\n",
              "      <td>234000</td>\n",
              "    </tr>\n",
              "    <tr>\n",
              "      <th>9</th>\n",
              "      <td>10</td>\n",
              "      <td>1990</td>\n",
              "      <td>1890</td>\n",
              "      <td>8300</td>\n",
              "      <td>10300</td>\n",
              "      <td>2300</td>\n",
              "      <td>1890</td>\n",
              "      <td>26670</td>\n",
              "      <td>266700</td>\n",
              "    </tr>\n",
              "    <tr>\n",
              "      <th>10</th>\n",
              "      <td>11</td>\n",
              "      <td>2340</td>\n",
              "      <td>2100</td>\n",
              "      <td>7300</td>\n",
              "      <td>13300</td>\n",
              "      <td>2400</td>\n",
              "      <td>2100</td>\n",
              "      <td>41280</td>\n",
              "      <td>412800</td>\n",
              "    </tr>\n",
              "    <tr>\n",
              "      <th>11</th>\n",
              "      <td>12</td>\n",
              "      <td>2900</td>\n",
              "      <td>1760</td>\n",
              "      <td>7400</td>\n",
              "      <td>14400</td>\n",
              "      <td>1800</td>\n",
              "      <td>1760</td>\n",
              "      <td>30020</td>\n",
              "      <td>300200</td>\n",
              "    </tr>\n",
              "  </tbody>\n",
              "</table>\n",
              "</div>"
            ],
            "text/plain": [
              "    month_number  facecream  facewash  ...  moisturizer  total_units  total_profit\n",
              "0              1       2500      1500  ...         1500        21100        211000\n",
              "1              2       2630      1200  ...         1200        18330        183300\n",
              "2              3       2140      1340  ...         1340        22470        224700\n",
              "3              4       3400      1130  ...         1130        22270        222700\n",
              "4              5       3600      1740  ...         1740        20960        209600\n",
              "5              6       2760      1555  ...         1555        20140        201400\n",
              "6              7       2980      1120  ...         1120        29550        295500\n",
              "7              8       3700      1400  ...         1400        36140        361400\n",
              "8              9       3540      1780  ...         1780        23400        234000\n",
              "9             10       1990      1890  ...         1890        26670        266700\n",
              "10            11       2340      2100  ...         2100        41280        412800\n",
              "11            12       2900      1760  ...         1760        30020        300200\n",
              "\n",
              "[12 rows x 9 columns]"
            ]
          },
          "metadata": {
            "tags": []
          },
          "execution_count": 9
        }
      ]
    },
    {
      "cell_type": "markdown",
      "metadata": {
        "id": "z280NQceq73X"
      },
      "source": [
        "### **Numpy**"
      ]
    },
    {
      "cell_type": "markdown",
      "metadata": {
        "id": "vm9DpIXjrGyy"
      },
      "source": [
        "Create an array of 10 fives."
      ]
    },
    {
      "cell_type": "code",
      "metadata": {
        "colab": {
          "base_uri": "https://localhost:8080/"
        },
        "id": "OOGjEVDEq4rr",
        "outputId": "2b6ace9f-3773-45db-d16f-d3cf943181b2"
      },
      "source": [
        "import numpy as np\n",
        "array = np.ones(10) * 5\n",
        "print(\"Array of 10 fives:\", array)"
      ],
      "execution_count": 10,
      "outputs": [
        {
          "output_type": "stream",
          "text": [
            "Array of 10 fives: [5. 5. 5. 5. 5. 5. 5. 5. 5. 5.]\n"
          ],
          "name": "stdout"
        }
      ]
    },
    {
      "cell_type": "markdown",
      "metadata": {
        "id": "jse3LZszr510"
      },
      "source": [
        "Create an array of all even integers between 10 to 50."
      ]
    },
    {
      "cell_type": "code",
      "metadata": {
        "colab": {
          "base_uri": "https://localhost:8080/"
        },
        "id": "-HFV8Lepry0T",
        "outputId": "b3444046-37cb-4dfa-c932-937b2ba6ee95"
      },
      "source": [
        "print(\"Array of evens:\", np.arange(10, 51, 2))"
      ],
      "execution_count": 11,
      "outputs": [
        {
          "output_type": "stream",
          "text": [
            "Array of evens: [10 12 14 16 18 20 22 24 26 28 30 32 34 36 38 40 42 44 46 48 50]\n"
          ],
          "name": "stdout"
        }
      ]
    },
    {
      "cell_type": "markdown",
      "metadata": {
        "id": "nXB23MTuse29"
      },
      "source": [
        "Create a 4 x 4 matrix."
      ]
    },
    {
      "cell_type": "code",
      "metadata": {
        "colab": {
          "base_uri": "https://localhost:8080/"
        },
        "id": "pGv28DnqsJo-",
        "outputId": "be1c28fa-d643-4c57-9af6-81c1962c7e72"
      },
      "source": [
        "matrix = np.arange(0, 16).reshape(4, 4)\n",
        "print(\"4X4 Matrix:\")\n",
        "print(matrix)"
      ],
      "execution_count": 12,
      "outputs": [
        {
          "output_type": "stream",
          "text": [
            "4X4 Matrix:\n",
            "[[ 0  1  2  3]\n",
            " [ 4  5  6  7]\n",
            " [ 8  9 10 11]\n",
            " [12 13 14 15]]\n"
          ],
          "name": "stdout"
        }
      ]
    },
    {
      "cell_type": "markdown",
      "metadata": {
        "id": "BRglFsb1s9Sg"
      },
      "source": [
        "Use numpy to generate an array of 25 random numbers sampled from a standard\n",
        "normal distribution."
      ]
    },
    {
      "cell_type": "code",
      "metadata": {
        "colab": {
          "base_uri": "https://localhost:8080/"
        },
        "id": "JTCU_cEoszPC",
        "outputId": "741c2566-0f57-423c-c045-192bd3ba24e7"
      },
      "source": [
        "rand_num = np.random.normal(0, 1, 25)\n",
        "print(\"25 random numbers from a standard normal distribution:\")\n",
        "print(rand_num)"
      ],
      "execution_count": 13,
      "outputs": [
        {
          "output_type": "stream",
          "text": [
            "25 random numbers from a standard normal distribution:\n",
            "[ 1.90251105 -0.54565035 -1.13406685 -0.38957365  0.3632628   1.40355258\n",
            " -1.08516485 -0.37040608  0.56811019 -0.43004331  0.39323295 -1.0579395\n",
            " -0.90615941  0.99268843 -0.00410179 -0.87061264 -1.29100374  0.18785547\n",
            " -0.67183787  1.50716388 -1.071017    2.31535335 -1.55558875  2.9216515\n",
            " -1.3050844 ]\n"
          ],
          "name": "stdout"
        }
      ]
    },
    {
      "cell_type": "markdown",
      "metadata": {
        "id": "Rcl7jHeetUKa"
      },
      "source": [
        "matrix : ([[ 1 2 3 4 5 ] Output the given matrix using numpy.\n",
        "[ 6 7 8 9 10]\n",
        "[11 12 13 14 15]\n",
        "[16 17 18 19 20]\n",
        "[ 21 22 23 24 25]])"
      ]
    },
    {
      "cell_type": "code",
      "metadata": {
        "colab": {
          "base_uri": "https://localhost:8080/"
        },
        "id": "piL72uaWtM2d",
        "outputId": "aeb41522-eae2-4468-e327-74d91f82c611"
      },
      "source": [
        "matrix = np.arange(1, 26).reshape(5, 5)\n",
        "print(matrix)"
      ],
      "execution_count": 14,
      "outputs": [
        {
          "output_type": "stream",
          "text": [
            "[[ 1  2  3  4  5]\n",
            " [ 6  7  8  9 10]\n",
            " [11 12 13 14 15]\n",
            " [16 17 18 19 20]\n",
            " [21 22 23 24 25]]\n"
          ],
          "name": "stdout"
        }
      ]
    },
    {
      "cell_type": "markdown",
      "metadata": {
        "id": "cd5xzi4ytt_z"
      },
      "source": [
        "by referring the above matrix output given matrix : ([[ 12 13 14 15]\n",
        "17 18 19 20]\n",
        "22 23 24 25 ]])"
      ]
    },
    {
      "cell_type": "code",
      "metadata": {
        "colab": {
          "base_uri": "https://localhost:8080/"
        },
        "id": "1L-gfkMmtnzx",
        "outputId": "97bfc99b-9d52-410a-87f6-79964a8843c9"
      },
      "source": [
        "print(matrix[2:, 1:])"
      ],
      "execution_count": 15,
      "outputs": [
        {
          "output_type": "stream",
          "text": [
            "[[12 13 14 15]\n",
            " [17 18 19 20]\n",
            " [22 23 24 25]]\n"
          ],
          "name": "stdout"
        }
      ]
    },
    {
      "cell_type": "markdown",
      "metadata": {
        "id": "ulxp0vZst5sa"
      },
      "source": [
        "Grab number ‘20’ from the matrix"
      ]
    },
    {
      "cell_type": "code",
      "metadata": {
        "colab": {
          "base_uri": "https://localhost:8080/"
        },
        "id": "7zxn1PH-t1ik",
        "outputId": "01c4fe79-0701-4693-c584-31646bafb9a5"
      },
      "source": [
        "matrix[3, 4]"
      ],
      "execution_count": 16,
      "outputs": [
        {
          "output_type": "execute_result",
          "data": {
            "text/plain": [
              "20"
            ]
          },
          "metadata": {
            "tags": []
          },
          "execution_count": 16
        }
      ]
    },
    {
      "cell_type": "markdown",
      "metadata": {
        "id": "zhF66ZeUuCke"
      },
      "source": [
        "Output this array ([[ 2 ]\n",
        "[ 7 ]\n",
        "[12 ]])"
      ]
    },
    {
      "cell_type": "code",
      "metadata": {
        "colab": {
          "base_uri": "https://localhost:8080/"
        },
        "id": "KvOtGPPLt-Sv",
        "outputId": "065e1edb-f869-4061-c596-65f18e6a99a9"
      },
      "source": [
        "print(matrix[0:3, 1].reshape(3, 1))"
      ],
      "execution_count": 17,
      "outputs": [
        {
          "output_type": "stream",
          "text": [
            "[[ 2]\n",
            " [ 7]\n",
            " [12]]\n"
          ],
          "name": "stdout"
        }
      ]
    },
    {
      "cell_type": "markdown",
      "metadata": {
        "id": "ysFvuacsuNwA"
      },
      "source": [
        "Get the standard derivation of the values in the matrix"
      ]
    },
    {
      "cell_type": "code",
      "metadata": {
        "colab": {
          "base_uri": "https://localhost:8080/"
        },
        "id": "Ic2mcZvHuJtB",
        "outputId": "6045f557-fe04-4b04-b19a-4a2688e11e95"
      },
      "source": [
        "np.std(matrix)"
      ],
      "execution_count": 18,
      "outputs": [
        {
          "output_type": "execute_result",
          "data": {
            "text/plain": [
              "7.211102550927978"
            ]
          },
          "metadata": {
            "tags": []
          },
          "execution_count": 18
        }
      ]
    },
    {
      "cell_type": "markdown",
      "metadata": {
        "id": "R5WwuXQXuUj3"
      },
      "source": [
        "Get the sum of all columns in the matrix"
      ]
    },
    {
      "cell_type": "code",
      "metadata": {
        "colab": {
          "base_uri": "https://localhost:8080/"
        },
        "id": "zMInu6nYuTqr",
        "outputId": "a0258fc0-e70b-4dd0-fa94-30dd37532f11"
      },
      "source": [
        "print(matrix.sum(axis = 0))"
      ],
      "execution_count": 19,
      "outputs": [
        {
          "output_type": "stream",
          "text": [
            "[55 60 65 70 75]\n"
          ],
          "name": "stdout"
        }
      ]
    },
    {
      "cell_type": "markdown",
      "metadata": {
        "id": "Qd8wm3QgvFwc"
      },
      "source": [
        "### **Pandas**"
      ]
    },
    {
      "cell_type": "markdown",
      "metadata": {
        "id": "yKIpDJDywLy7"
      },
      "source": [
        "Import pandas and check the version"
      ]
    },
    {
      "cell_type": "code",
      "metadata": {
        "colab": {
          "base_uri": "https://localhost:8080/"
        },
        "id": "bKDUFhK5ug2d",
        "outputId": "8c57355b-d415-4dac-e84a-cd0897a30d5a"
      },
      "source": [
        "print(pd.__version__)"
      ],
      "execution_count": 20,
      "outputs": [
        {
          "output_type": "stream",
          "text": [
            "1.1.5\n"
          ],
          "name": "stdout"
        }
      ]
    },
    {
      "cell_type": "markdown",
      "metadata": {
        "id": "D_NTvYbxwrF6"
      },
      "source": [
        "Create a series from a list, numpy array and dict"
      ]
    },
    {
      "cell_type": "code",
      "metadata": {
        "colab": {
          "base_uri": "https://localhost:8080/"
        },
        "id": "f-uSNnfwwo0p",
        "outputId": "96a083a3-beaf-4b93-b1be-96b6018a82fa"
      },
      "source": [
        "mylist = list('abcedfghijklmnopqrstuvwxyz')\n",
        "myarr = np.arange(26)\n",
        "mydict = dict(zip(mylist, myarr))\n",
        "\n",
        "series_list = pd.Series(mylist)\n",
        "print(series_list.head())\n",
        "series_array = pd.Series(myarr)\n",
        "print(series_array.head())\n",
        "series_dict = pd.Series(mydict)\n",
        "print(series_dict.head())"
      ],
      "execution_count": 21,
      "outputs": [
        {
          "output_type": "stream",
          "text": [
            "0    a\n",
            "1    b\n",
            "2    c\n",
            "3    e\n",
            "4    d\n",
            "dtype: object\n",
            "0    0\n",
            "1    1\n",
            "2    2\n",
            "3    3\n",
            "4    4\n",
            "dtype: int64\n",
            "a    0\n",
            "b    1\n",
            "c    2\n",
            "e    3\n",
            "d    4\n",
            "dtype: int64\n"
          ],
          "name": "stdout"
        }
      ]
    },
    {
      "cell_type": "markdown",
      "metadata": {
        "id": "DR-AvjPA2BSE"
      },
      "source": [
        "Combine many series to form a dataframe"
      ]
    },
    {
      "cell_type": "code",
      "metadata": {
        "colab": {
          "base_uri": "https://localhost:8080/"
        },
        "id": "hGJBsZWVxEab",
        "outputId": "f6cdf4f7-b2a2-4111-e91b-5d1c1d3b57d0"
      },
      "source": [
        "ser1 = pd.Series(list('abcedfghijklmnopqrstuvwxyz'))\n",
        "ser2 = pd.Series(np.arange(26))\n",
        "\n",
        "df_v1 = pd.concat([ser1, ser2])\n",
        "print(df_v1.head())\n",
        "\n",
        "df_v2 = pd.DataFrame({'col-1': ser1, 'col-2': ser2})\n",
        "print(df_v2.head())"
      ],
      "execution_count": 22,
      "outputs": [
        {
          "output_type": "stream",
          "text": [
            "0    a\n",
            "1    b\n",
            "2    c\n",
            "3    e\n",
            "4    d\n",
            "dtype: object\n",
            "  col-1  col-2\n",
            "0     a      0\n",
            "1     b      1\n",
            "2     c      2\n",
            "3     e      3\n",
            "4     d      4\n"
          ],
          "name": "stdout"
        }
      ]
    },
    {
      "cell_type": "code",
      "metadata": {
        "colab": {
          "base_uri": "https://localhost:8080/"
        },
        "id": "auieUbiV2YqR",
        "outputId": "cd2c2aa6-492c-48ff-d6fc-bae4216d6b14"
      },
      "source": [
        "serA = pd.Series([1, 2, 3, 4, 5])\n",
        "serB = pd.Series([4, 5, 6, 7, 8])\n",
        "pd.Series(np.append(np.setdiff1d(serA, serB), np.setdiff1d(serB, serA)))"
      ],
      "execution_count": 23,
      "outputs": [
        {
          "output_type": "execute_result",
          "data": {
            "text/plain": [
              "0    1\n",
              "1    2\n",
              "2    3\n",
              "3    6\n",
              "4    7\n",
              "5    8\n",
              "dtype: int64"
            ]
          },
          "metadata": {
            "tags": []
          },
          "execution_count": 23
        }
      ]
    },
    {
      "cell_type": "markdown",
      "metadata": {
        "id": "p_y3JAyi2viY"
      },
      "source": [
        "Get frequency counts of unique items of a series"
      ]
    },
    {
      "cell_type": "code",
      "metadata": {
        "colab": {
          "base_uri": "https://localhost:8080/"
        },
        "id": "683ODh8s2j2y",
        "outputId": "e02a1ad0-302e-4200-96e6-6b7855055dde"
      },
      "source": [
        "ser = pd.Series(np.take(list('abcdefgh'), np.random.randint(8, size=30)))\n",
        "ser.value_counts()"
      ],
      "execution_count": 24,
      "outputs": [
        {
          "output_type": "execute_result",
          "data": {
            "text/plain": [
              "e    6\n",
              "g    5\n",
              "f    5\n",
              "c    4\n",
              "d    3\n",
              "a    3\n",
              "h    2\n",
              "b    2\n",
              "dtype: int64"
            ]
          },
          "metadata": {
            "tags": []
          },
          "execution_count": 24
        }
      ]
    },
    {
      "cell_type": "markdown",
      "metadata": {
        "id": "WKD33oBP24VX"
      },
      "source": [
        "Stack two series vertically and horizontally"
      ]
    },
    {
      "cell_type": "code",
      "metadata": {
        "colab": {
          "base_uri": "https://localhost:8080/"
        },
        "id": "og7fkKkP22-n",
        "outputId": "b339f296-b0e5-42c5-88e7-dd9a0fe33745"
      },
      "source": [
        "ser1 = pd.Series(range(5))\n",
        "ser2 = pd.Series(list('abcde'))\n",
        "\n",
        "df_vert = ser1.append(ser2)\n",
        "print(df_vert)\n",
        "\n",
        "df_horiz = pd.concat([ser1,ser2], axis=1)\n",
        "print(df_horiz)"
      ],
      "execution_count": 25,
      "outputs": [
        {
          "output_type": "stream",
          "text": [
            "0    0\n",
            "1    1\n",
            "2    2\n",
            "3    3\n",
            "4    4\n",
            "0    a\n",
            "1    b\n",
            "2    c\n",
            "3    d\n",
            "4    e\n",
            "dtype: object\n",
            "   0  1\n",
            "0  0  a\n",
            "1  1  b\n",
            "2  2  c\n",
            "3  3  d\n",
            "4  4  e\n"
          ],
          "name": "stdout"
        }
      ]
    },
    {
      "cell_type": "markdown",
      "metadata": {
        "id": "eCI-GOhZ3NcE"
      },
      "source": [
        "Convert a series of date-strings to a timeseries"
      ]
    },
    {
      "cell_type": "code",
      "metadata": {
        "colab": {
          "base_uri": "https://localhost:8080/"
        },
        "id": "VX3FqAV33H0n",
        "outputId": "fe918cf4-fb25-49e1-a77c-55fa790a8a9c"
      },
      "source": [
        "ser = pd.Series(['01 Jan 2010', '02-02-2011', '20120303', '2013/04/04', '2014-05-05', '2015-06-06T12:20'])\n",
        "pd.to_datetime(ser)"
      ],
      "execution_count": 26,
      "outputs": [
        {
          "output_type": "execute_result",
          "data": {
            "text/plain": [
              "0   2010-01-01 00:00:00\n",
              "1   2011-02-02 00:00:00\n",
              "2   2012-03-03 00:00:00\n",
              "3   2013-04-04 00:00:00\n",
              "4   2014-05-05 00:00:00\n",
              "5   2015-06-06 12:20:00\n",
              "dtype: datetime64[ns]"
            ]
          },
          "metadata": {
            "tags": []
          },
          "execution_count": 26
        }
      ]
    },
    {
      "cell_type": "markdown",
      "metadata": {
        "id": "UzUVFp5K3ioL"
      },
      "source": [
        "Compute the euclidean distance between two series"
      ]
    },
    {
      "cell_type": "code",
      "metadata": {
        "colab": {
          "base_uri": "https://localhost:8080/"
        },
        "id": "jcrxOGuM3eoX",
        "outputId": "3b9bcf10-a9be-4de2-8544-964dceccaa5f"
      },
      "source": [
        "p = pd.Series([1, 2, 3, 4, 5, 6, 7, 8, 9, 10])\n",
        "q = pd.Series([10, 9, 8, 7, 6, 5, 4, 3, 2, 1])\n",
        "np.linalg.norm(p - q)"
      ],
      "execution_count": 27,
      "outputs": [
        {
          "output_type": "execute_result",
          "data": {
            "text/plain": [
              "18.16590212458495"
            ]
          },
          "metadata": {
            "tags": []
          },
          "execution_count": 27
        }
      ]
    },
    {
      "cell_type": "markdown",
      "metadata": {
        "id": "CtPr2qCf3rxZ"
      },
      "source": [
        "Import only specific columns from a csv file(first and second)"
      ]
    },
    {
      "cell_type": "code",
      "metadata": {
        "colab": {
          "base_uri": "https://localhost:8080/",
          "height": 421
        },
        "id": "zj6DA8Mj3nAE",
        "outputId": "2b5d9974-a872-4a0e-b2ae-72af41f364ed"
      },
      "source": [
        "df1 = pd.read_csv(url, usecols=[\"month_number\",\t\"facecream\"])\n",
        "df1"
      ],
      "execution_count": 28,
      "outputs": [
        {
          "output_type": "execute_result",
          "data": {
            "text/html": [
              "<div>\n",
              "<style scoped>\n",
              "    .dataframe tbody tr th:only-of-type {\n",
              "        vertical-align: middle;\n",
              "    }\n",
              "\n",
              "    .dataframe tbody tr th {\n",
              "        vertical-align: top;\n",
              "    }\n",
              "\n",
              "    .dataframe thead th {\n",
              "        text-align: right;\n",
              "    }\n",
              "</style>\n",
              "<table border=\"1\" class=\"dataframe\">\n",
              "  <thead>\n",
              "    <tr style=\"text-align: right;\">\n",
              "      <th></th>\n",
              "      <th>month_number</th>\n",
              "      <th>facecream</th>\n",
              "    </tr>\n",
              "  </thead>\n",
              "  <tbody>\n",
              "    <tr>\n",
              "      <th>0</th>\n",
              "      <td>1</td>\n",
              "      <td>2500</td>\n",
              "    </tr>\n",
              "    <tr>\n",
              "      <th>1</th>\n",
              "      <td>2</td>\n",
              "      <td>2630</td>\n",
              "    </tr>\n",
              "    <tr>\n",
              "      <th>2</th>\n",
              "      <td>3</td>\n",
              "      <td>2140</td>\n",
              "    </tr>\n",
              "    <tr>\n",
              "      <th>3</th>\n",
              "      <td>4</td>\n",
              "      <td>3400</td>\n",
              "    </tr>\n",
              "    <tr>\n",
              "      <th>4</th>\n",
              "      <td>5</td>\n",
              "      <td>3600</td>\n",
              "    </tr>\n",
              "    <tr>\n",
              "      <th>5</th>\n",
              "      <td>6</td>\n",
              "      <td>2760</td>\n",
              "    </tr>\n",
              "    <tr>\n",
              "      <th>6</th>\n",
              "      <td>7</td>\n",
              "      <td>2980</td>\n",
              "    </tr>\n",
              "    <tr>\n",
              "      <th>7</th>\n",
              "      <td>8</td>\n",
              "      <td>3700</td>\n",
              "    </tr>\n",
              "    <tr>\n",
              "      <th>8</th>\n",
              "      <td>9</td>\n",
              "      <td>3540</td>\n",
              "    </tr>\n",
              "    <tr>\n",
              "      <th>9</th>\n",
              "      <td>10</td>\n",
              "      <td>1990</td>\n",
              "    </tr>\n",
              "    <tr>\n",
              "      <th>10</th>\n",
              "      <td>11</td>\n",
              "      <td>2340</td>\n",
              "    </tr>\n",
              "    <tr>\n",
              "      <th>11</th>\n",
              "      <td>12</td>\n",
              "      <td>2900</td>\n",
              "    </tr>\n",
              "  </tbody>\n",
              "</table>\n",
              "</div>"
            ],
            "text/plain": [
              "    month_number  facecream\n",
              "0              1       2500\n",
              "1              2       2630\n",
              "2              3       2140\n",
              "3              4       3400\n",
              "4              5       3600\n",
              "5              6       2760\n",
              "6              7       2980\n",
              "7              8       3700\n",
              "8              9       3540\n",
              "9             10       1990\n",
              "10            11       2340\n",
              "11            12       2900"
            ]
          },
          "metadata": {
            "tags": []
          },
          "execution_count": 28
        }
      ]
    },
    {
      "cell_type": "markdown",
      "metadata": {
        "id": "XnwrS-Xc6NUN"
      },
      "source": [
        "Use iloc(2 columns and 10 rows(any))"
      ]
    },
    {
      "cell_type": "code",
      "metadata": {
        "colab": {
          "base_uri": "https://localhost:8080/",
          "height": 359
        },
        "id": "dYpiW-fb5UgC",
        "outputId": "b2035b86-dadc-49f4-9c45-f696e2eb7201"
      },
      "source": [
        "df2 = data.iloc[0:10, 3:5]\n",
        "df2"
      ],
      "execution_count": 29,
      "outputs": [
        {
          "output_type": "execute_result",
          "data": {
            "text/html": [
              "<div>\n",
              "<style scoped>\n",
              "    .dataframe tbody tr th:only-of-type {\n",
              "        vertical-align: middle;\n",
              "    }\n",
              "\n",
              "    .dataframe tbody tr th {\n",
              "        vertical-align: top;\n",
              "    }\n",
              "\n",
              "    .dataframe thead th {\n",
              "        text-align: right;\n",
              "    }\n",
              "</style>\n",
              "<table border=\"1\" class=\"dataframe\">\n",
              "  <thead>\n",
              "    <tr style=\"text-align: right;\">\n",
              "      <th></th>\n",
              "      <th>toothpaste</th>\n",
              "      <th>bathingsoap</th>\n",
              "    </tr>\n",
              "  </thead>\n",
              "  <tbody>\n",
              "    <tr>\n",
              "      <th>0</th>\n",
              "      <td>5200</td>\n",
              "      <td>9200</td>\n",
              "    </tr>\n",
              "    <tr>\n",
              "      <th>1</th>\n",
              "      <td>5100</td>\n",
              "      <td>6100</td>\n",
              "    </tr>\n",
              "    <tr>\n",
              "      <th>2</th>\n",
              "      <td>4550</td>\n",
              "      <td>9550</td>\n",
              "    </tr>\n",
              "    <tr>\n",
              "      <th>3</th>\n",
              "      <td>5870</td>\n",
              "      <td>8870</td>\n",
              "    </tr>\n",
              "    <tr>\n",
              "      <th>4</th>\n",
              "      <td>4560</td>\n",
              "      <td>7760</td>\n",
              "    </tr>\n",
              "    <tr>\n",
              "      <th>5</th>\n",
              "      <td>4890</td>\n",
              "      <td>7490</td>\n",
              "    </tr>\n",
              "    <tr>\n",
              "      <th>6</th>\n",
              "      <td>4780</td>\n",
              "      <td>8980</td>\n",
              "    </tr>\n",
              "    <tr>\n",
              "      <th>7</th>\n",
              "      <td>5860</td>\n",
              "      <td>9960</td>\n",
              "    </tr>\n",
              "    <tr>\n",
              "      <th>8</th>\n",
              "      <td>6100</td>\n",
              "      <td>8100</td>\n",
              "    </tr>\n",
              "    <tr>\n",
              "      <th>9</th>\n",
              "      <td>8300</td>\n",
              "      <td>10300</td>\n",
              "    </tr>\n",
              "  </tbody>\n",
              "</table>\n",
              "</div>"
            ],
            "text/plain": [
              "   toothpaste  bathingsoap\n",
              "0        5200         9200\n",
              "1        5100         6100\n",
              "2        4550         9550\n",
              "3        5870         8870\n",
              "4        4560         7760\n",
              "5        4890         7490\n",
              "6        4780         8980\n",
              "7        5860         9960\n",
              "8        6100         8100\n",
              "9        8300        10300"
            ]
          },
          "metadata": {
            "tags": []
          },
          "execution_count": 29
        }
      ]
    },
    {
      "cell_type": "markdown",
      "metadata": {
        "id": "TEVkanlu7CJE"
      },
      "source": [
        "Find out the unique values in each column"
      ]
    },
    {
      "cell_type": "code",
      "metadata": {
        "colab": {
          "base_uri": "https://localhost:8080/"
        },
        "id": "ScUPfErT61mx",
        "outputId": "1ddee0f1-4fc7-496b-d0dc-b2715770de39"
      },
      "source": [
        "for col in data:\n",
        "    print(data[col].unique())"
      ],
      "execution_count": 30,
      "outputs": [
        {
          "output_type": "stream",
          "text": [
            "[ 1  2  3  4  5  6  7  8  9 10 11 12]\n",
            "[2500 2630 2140 3400 3600 2760 2980 3700 3540 1990 2340 2900]\n",
            "[1500 1200 1340 1130 1740 1555 1120 1400 1780 1890 2100 1760]\n",
            "[5200 5100 4550 5870 4560 4890 4780 5860 6100 8300 7300 7400]\n",
            "[ 9200  6100  9550  8870  7760  7490  8980  9960  8100 10300 13300 14400]\n",
            "[1200 2100 3550 1870 1560 1890 1780 2860 2300 2400 1800]\n",
            "[1500 1200 1340 1130 1740 1555 1120 1400 1780 1890 2100 1760]\n",
            "[21100 18330 22470 22270 20960 20140 29550 36140 23400 26670 41280 30020]\n",
            "[211000 183300 224700 222700 209600 201400 295500 361400 234000 266700\n",
            " 412800 300200]\n"
          ],
          "name": "stdout"
        }
      ]
    },
    {
      "cell_type": "markdown",
      "metadata": {
        "id": "fOIstwew8EkE"
      },
      "source": [
        "### **Check null values**"
      ]
    },
    {
      "cell_type": "code",
      "metadata": {
        "colab": {
          "base_uri": "https://localhost:8080/"
        },
        "id": "DNVe1ChI7nLl",
        "outputId": "9624db93-e32d-4e34-cbcf-a6cf2d261c02"
      },
      "source": [
        "data.isnull().values.any()"
      ],
      "execution_count": 31,
      "outputs": [
        {
          "output_type": "execute_result",
          "data": {
            "text/plain": [
              "False"
            ]
          },
          "metadata": {
            "tags": []
          },
          "execution_count": 31
        }
      ]
    },
    {
      "cell_type": "markdown",
      "metadata": {
        "id": "szIqX2i68kw9"
      },
      "source": [
        "### **Read and print the first and last five rows of the dataframe**"
      ]
    },
    {
      "cell_type": "code",
      "metadata": {
        "colab": {
          "base_uri": "https://localhost:8080/",
          "height": 204
        },
        "id": "QAXrFfvC8eV0",
        "outputId": "bc7eea34-1884-4aa3-a2ca-2001b363db92"
      },
      "source": [
        "data.head(5)"
      ],
      "execution_count": 32,
      "outputs": [
        {
          "output_type": "execute_result",
          "data": {
            "text/html": [
              "<div>\n",
              "<style scoped>\n",
              "    .dataframe tbody tr th:only-of-type {\n",
              "        vertical-align: middle;\n",
              "    }\n",
              "\n",
              "    .dataframe tbody tr th {\n",
              "        vertical-align: top;\n",
              "    }\n",
              "\n",
              "    .dataframe thead th {\n",
              "        text-align: right;\n",
              "    }\n",
              "</style>\n",
              "<table border=\"1\" class=\"dataframe\">\n",
              "  <thead>\n",
              "    <tr style=\"text-align: right;\">\n",
              "      <th></th>\n",
              "      <th>month_number</th>\n",
              "      <th>facecream</th>\n",
              "      <th>facewash</th>\n",
              "      <th>toothpaste</th>\n",
              "      <th>bathingsoap</th>\n",
              "      <th>shampoo</th>\n",
              "      <th>moisturizer</th>\n",
              "      <th>total_units</th>\n",
              "      <th>total_profit</th>\n",
              "    </tr>\n",
              "  </thead>\n",
              "  <tbody>\n",
              "    <tr>\n",
              "      <th>0</th>\n",
              "      <td>1</td>\n",
              "      <td>2500</td>\n",
              "      <td>1500</td>\n",
              "      <td>5200</td>\n",
              "      <td>9200</td>\n",
              "      <td>1200</td>\n",
              "      <td>1500</td>\n",
              "      <td>21100</td>\n",
              "      <td>211000</td>\n",
              "    </tr>\n",
              "    <tr>\n",
              "      <th>1</th>\n",
              "      <td>2</td>\n",
              "      <td>2630</td>\n",
              "      <td>1200</td>\n",
              "      <td>5100</td>\n",
              "      <td>6100</td>\n",
              "      <td>2100</td>\n",
              "      <td>1200</td>\n",
              "      <td>18330</td>\n",
              "      <td>183300</td>\n",
              "    </tr>\n",
              "    <tr>\n",
              "      <th>2</th>\n",
              "      <td>3</td>\n",
              "      <td>2140</td>\n",
              "      <td>1340</td>\n",
              "      <td>4550</td>\n",
              "      <td>9550</td>\n",
              "      <td>3550</td>\n",
              "      <td>1340</td>\n",
              "      <td>22470</td>\n",
              "      <td>224700</td>\n",
              "    </tr>\n",
              "    <tr>\n",
              "      <th>3</th>\n",
              "      <td>4</td>\n",
              "      <td>3400</td>\n",
              "      <td>1130</td>\n",
              "      <td>5870</td>\n",
              "      <td>8870</td>\n",
              "      <td>1870</td>\n",
              "      <td>1130</td>\n",
              "      <td>22270</td>\n",
              "      <td>222700</td>\n",
              "    </tr>\n",
              "    <tr>\n",
              "      <th>4</th>\n",
              "      <td>5</td>\n",
              "      <td>3600</td>\n",
              "      <td>1740</td>\n",
              "      <td>4560</td>\n",
              "      <td>7760</td>\n",
              "      <td>1560</td>\n",
              "      <td>1740</td>\n",
              "      <td>20960</td>\n",
              "      <td>209600</td>\n",
              "    </tr>\n",
              "  </tbody>\n",
              "</table>\n",
              "</div>"
            ],
            "text/plain": [
              "   month_number  facecream  facewash  ...  moisturizer  total_units  total_profit\n",
              "0             1       2500      1500  ...         1500        21100        211000\n",
              "1             2       2630      1200  ...         1200        18330        183300\n",
              "2             3       2140      1340  ...         1340        22470        224700\n",
              "3             4       3400      1130  ...         1130        22270        222700\n",
              "4             5       3600      1740  ...         1740        20960        209600\n",
              "\n",
              "[5 rows x 9 columns]"
            ]
          },
          "metadata": {
            "tags": []
          },
          "execution_count": 32
        }
      ]
    },
    {
      "cell_type": "code",
      "metadata": {
        "colab": {
          "base_uri": "https://localhost:8080/",
          "height": 204
        },
        "id": "4iaTEpe582yH",
        "outputId": "93ea5721-6afa-4486-9cbd-d86bc2e9fee6"
      },
      "source": [
        "data.tail(5)"
      ],
      "execution_count": 33,
      "outputs": [
        {
          "output_type": "execute_result",
          "data": {
            "text/html": [
              "<div>\n",
              "<style scoped>\n",
              "    .dataframe tbody tr th:only-of-type {\n",
              "        vertical-align: middle;\n",
              "    }\n",
              "\n",
              "    .dataframe tbody tr th {\n",
              "        vertical-align: top;\n",
              "    }\n",
              "\n",
              "    .dataframe thead th {\n",
              "        text-align: right;\n",
              "    }\n",
              "</style>\n",
              "<table border=\"1\" class=\"dataframe\">\n",
              "  <thead>\n",
              "    <tr style=\"text-align: right;\">\n",
              "      <th></th>\n",
              "      <th>month_number</th>\n",
              "      <th>facecream</th>\n",
              "      <th>facewash</th>\n",
              "      <th>toothpaste</th>\n",
              "      <th>bathingsoap</th>\n",
              "      <th>shampoo</th>\n",
              "      <th>moisturizer</th>\n",
              "      <th>total_units</th>\n",
              "      <th>total_profit</th>\n",
              "    </tr>\n",
              "  </thead>\n",
              "  <tbody>\n",
              "    <tr>\n",
              "      <th>7</th>\n",
              "      <td>8</td>\n",
              "      <td>3700</td>\n",
              "      <td>1400</td>\n",
              "      <td>5860</td>\n",
              "      <td>9960</td>\n",
              "      <td>2860</td>\n",
              "      <td>1400</td>\n",
              "      <td>36140</td>\n",
              "      <td>361400</td>\n",
              "    </tr>\n",
              "    <tr>\n",
              "      <th>8</th>\n",
              "      <td>9</td>\n",
              "      <td>3540</td>\n",
              "      <td>1780</td>\n",
              "      <td>6100</td>\n",
              "      <td>8100</td>\n",
              "      <td>2100</td>\n",
              "      <td>1780</td>\n",
              "      <td>23400</td>\n",
              "      <td>234000</td>\n",
              "    </tr>\n",
              "    <tr>\n",
              "      <th>9</th>\n",
              "      <td>10</td>\n",
              "      <td>1990</td>\n",
              "      <td>1890</td>\n",
              "      <td>8300</td>\n",
              "      <td>10300</td>\n",
              "      <td>2300</td>\n",
              "      <td>1890</td>\n",
              "      <td>26670</td>\n",
              "      <td>266700</td>\n",
              "    </tr>\n",
              "    <tr>\n",
              "      <th>10</th>\n",
              "      <td>11</td>\n",
              "      <td>2340</td>\n",
              "      <td>2100</td>\n",
              "      <td>7300</td>\n",
              "      <td>13300</td>\n",
              "      <td>2400</td>\n",
              "      <td>2100</td>\n",
              "      <td>41280</td>\n",
              "      <td>412800</td>\n",
              "    </tr>\n",
              "    <tr>\n",
              "      <th>11</th>\n",
              "      <td>12</td>\n",
              "      <td>2900</td>\n",
              "      <td>1760</td>\n",
              "      <td>7400</td>\n",
              "      <td>14400</td>\n",
              "      <td>1800</td>\n",
              "      <td>1760</td>\n",
              "      <td>30020</td>\n",
              "      <td>300200</td>\n",
              "    </tr>\n",
              "  </tbody>\n",
              "</table>\n",
              "</div>"
            ],
            "text/plain": [
              "    month_number  facecream  facewash  ...  moisturizer  total_units  total_profit\n",
              "7              8       3700      1400  ...         1400        36140        361400\n",
              "8              9       3540      1780  ...         1780        23400        234000\n",
              "9             10       1990      1890  ...         1890        26670        266700\n",
              "10            11       2340      2100  ...         2100        41280        412800\n",
              "11            12       2900      1760  ...         1760        30020        300200\n",
              "\n",
              "[5 rows x 9 columns]"
            ]
          },
          "metadata": {
            "tags": []
          },
          "execution_count": 33
        }
      ]
    },
    {
      "cell_type": "markdown",
      "metadata": {
        "id": "gRaw-Rw_9fWb"
      },
      "source": [
        "### **Seaborn**"
      ]
    },
    {
      "cell_type": "markdown",
      "metadata": {
        "id": "VvvTXLeW9ngT"
      },
      "source": [
        "Plot Jointplot and visualise the data"
      ]
    },
    {
      "cell_type": "code",
      "metadata": {
        "colab": {
          "base_uri": "https://localhost:8080/",
          "height": 458
        },
        "id": "PhQBPcyH9XeD",
        "outputId": "2b96a234-2b25-439e-e418-9299dc8701b7"
      },
      "source": [
        "import seaborn as sns\n",
        "sns.jointplot(data=data, x=\"month_number\", y=\"total_profit\")"
      ],
      "execution_count": 34,
      "outputs": [
        {
          "output_type": "execute_result",
          "data": {
            "text/plain": [
              "<seaborn.axisgrid.JointGrid at 0x7f275c397d90>"
            ]
          },
          "metadata": {
            "tags": []
          },
          "execution_count": 34
        },
        {
          "output_type": "display_data",
          "data": {
            "image/png": "[encoded data removed]",
            "text/plain": [
              "<Figure size 432x432 with 3 Axes>"
            ]
          },
          "metadata": {
            "tags": [],
            "needs_background": "light"
          }
        }
      ]
    },
    {
      "cell_type": "markdown",
      "metadata": {
        "id": "HS8dETTf_jLj"
      },
      "source": [
        "Plot Distplot , make kde to false and make bins to 30"
      ]
    },
    {
      "cell_type": "code",
      "metadata": {
        "colab": {
          "base_uri": "https://localhost:8080/",
          "height": 369
        },
        "id": "Sk0FZjtq-8qY",
        "outputId": "1acc3d70-d658-4898-bd7d-66d5e82be6f0"
      },
      "source": [
        "ax = sns.displot(data, bins=30, kde=False)"
      ],
      "execution_count": 35,
      "outputs": [
        {
          "output_type": "display_data",
          "data": {
            "image/png": "[encoded data removed]",
            "text/plain": [
              "<Figure size 472.125x360 with 1 Axes>"
            ]
          },
          "metadata": {
            "tags": [],
            "needs_background": "light"
          }
        }
      ]
    },
    {
      "cell_type": "markdown",
      "metadata": {
        "id": "7yi2X1rJ_5wH"
      },
      "source": [
        "Plot Scatterplot , try adding hue in it"
      ]
    },
    {
      "cell_type": "code",
      "metadata": {
        "colab": {
          "base_uri": "https://localhost:8080/",
          "height": 297
        },
        "id": "60erOaTC_0gP",
        "outputId": "4ec9ee95-871d-4cac-b280-46ef6809fcda"
      },
      "source": [
        "sns.scatterplot(x=\"month_number\", y=\"total_units\", hue=\"total_units\", data=data)"
      ],
      "execution_count": 36,
      "outputs": [
        {
          "output_type": "execute_result",
          "data": {
            "text/plain": [
              "<matplotlib.axes._subplots.AxesSubplot at 0x7f2752a81250>"
            ]
          },
          "metadata": {
            "tags": []
          },
          "execution_count": 36
        },
        {
          "output_type": "display_data",
          "data": {
            "image/png": "[encoded data removed]",
            "text/plain": [
              "<Figure size 432x288 with 1 Axes>"
            ]
          },
          "metadata": {
            "tags": [],
            "needs_background": "light"
          }
        }
      ]
    },
    {
      "cell_type": "markdown",
      "metadata": {
        "id": "HI4LRgggAXmu"
      },
      "source": [
        "Plot swarmplot and change color palette to ‘VIBGYOR’"
      ]
    },
    {
      "cell_type": "code",
      "metadata": {
        "colab": {
          "base_uri": "https://localhost:8080/",
          "height": 297
        },
        "id": "vsHgWU4jAKTT",
        "outputId": "1b5ec6e8-9869-46aa-a08c-8838247ad123"
      },
      "source": [
        "colors = [\"#9400D3\", \"#4B0082\",\"#0000FF\",\"#00FF00\",\"#FFFF00\",\"#FF7F00\",\"#FF0000\"]\n",
        "sns.set_palette(sns.color_palette(colors))\n",
        "sns.swarmplot(x=\"month_number\", y=\"total_units\", data=data)"
      ],
      "execution_count": 37,
      "outputs": [
        {
          "output_type": "execute_result",
          "data": {
            "text/plain": [
              "<matplotlib.axes._subplots.AxesSubplot at 0x7f27529d4190>"
            ]
          },
          "metadata": {
            "tags": []
          },
          "execution_count": 37
        },
        {
          "output_type": "display_data",
          "data": {
            "image/png": "[encoded data removed]",
            "text/plain": [
              "<Figure size 432x288 with 1 Axes>"
            ]
          },
          "metadata": {
            "tags": [],
            "needs_background": "light"
          }
        }
      ]
    },
    {
      "cell_type": "markdown",
      "metadata": {
        "id": "vV8DGqtSAroY"
      },
      "source": [
        "Plot countplot and use hue parameter in it"
      ]
    },
    {
      "cell_type": "code",
      "metadata": {
        "colab": {
          "base_uri": "https://localhost:8080/",
          "height": 297
        },
        "id": "TxgeGcpDAl5i",
        "outputId": "816e7d7f-e8fe-4fb1-a60c-e39df740ca4a"
      },
      "source": [
        "sns.countplot(x=\"month_number\", hue=\"shampoo\", data=data)"
      ],
      "execution_count": 38,
      "outputs": [
        {
          "output_type": "execute_result",
          "data": {
            "text/plain": [
              "<matplotlib.axes._subplots.AxesSubplot at 0x7f27529518d0>"
            ]
          },
          "metadata": {
            "tags": []
          },
          "execution_count": 38
        },
        {
          "output_type": "display_data",
          "data": {
            "image/png": "[encoded data removed]",
            "text/plain": [
              "<Figure size 432x288 with 1 Axes>"
            ]
          },
          "metadata": {
            "tags": [],
            "needs_background": "light"
          }
        }
      ]
    },
    {
      "cell_type": "markdown",
      "metadata": {
        "id": "z0icWd4dBGFC"
      },
      "source": [
        "Correlate the data and plot Heatmap on it and change its color scale to any you\n",
        "like"
      ]
    },
    {
      "cell_type": "code",
      "metadata": {
        "colab": {
          "base_uri": "https://localhost:8080/",
          "height": 556
        },
        "id": "DKLvJT06Ay8h",
        "outputId": "7ab83752-511e-43a5-a045-2488de61b802"
      },
      "source": [
        "print(data.corr())\n",
        "sns.heatmap(data=data.corr(), cmap=\"Blues\")"
      ],
      "execution_count": 39,
      "outputs": [
        {
          "output_type": "stream",
          "text": [
            "              month_number  facecream  ...  total_units  total_profit\n",
            "month_number      1.000000   0.042267  ...     0.709335      0.709335\n",
            "facecream         0.042267   1.000000  ...    -0.006310     -0.006310\n",
            "facewash          0.660922  -0.211348  ...     0.412600      0.412600\n",
            "toothpaste        0.763190  -0.284831  ...     0.534979      0.534979\n",
            "bathingsoap       0.705964  -0.243513  ...     0.745280      0.745280\n",
            "shampoo           0.112043  -0.243586  ...     0.297472      0.297472\n",
            "moisturizer       0.660922  -0.211348  ...     0.412600      0.412600\n",
            "total_units       0.709335  -0.006310  ...     1.000000      1.000000\n",
            "total_profit      0.709335  -0.006310  ...     1.000000      1.000000\n",
            "\n",
            "[9 rows x 9 columns]\n"
          ],
          "name": "stdout"
        },
        {
          "output_type": "execute_result",
          "data": {
            "text/plain": [
              "<matplotlib.axes._subplots.AxesSubplot at 0x7f27528f7750>"
            ]
          },
          "metadata": {
            "tags": []
          },
          "execution_count": 39
        },
        {
          "output_type": "display_data",
          "data": {
            "image/png": "[encoded data removed]",
            "text/plain": [
              "<Figure size 432x288 with 2 Axes>"
            ]
          },
          "metadata": {
            "tags": [],
            "needs_background": "light"
          }
        }
      ]
    },
    {
      "cell_type": "markdown",
      "metadata": {
        "id": "kl5eoaN1Hsgp"
      },
      "source": [
        "Plot a facetgrid and use hue in it"
      ]
    },
    {
      "cell_type": "code",
      "metadata": {
        "colab": {
          "base_uri": "https://localhost:8080/",
          "height": 247
        },
        "id": "epMh5uSSC8-B",
        "outputId": "8c778dd3-f2a0-4412-bc81-878a73615b0d"
      },
      "source": [
        "t = sns.FacetGrid(data, hue=\"total_profit\")\n",
        "t.map_dataframe(sns.scatterplot, x=\"month_number\", y=\"total_profit\")\n",
        "t.add_legend()"
      ],
      "execution_count": 40,
      "outputs": [
        {
          "output_type": "execute_result",
          "data": {
            "text/plain": [
              "<seaborn.axisgrid.FacetGrid at 0x7f2752700c90>"
            ]
          },
          "metadata": {
            "tags": []
          },
          "execution_count": 40
        },
        {
          "output_type": "display_data",
          "data": {
            "image/png": "[encoded data removed]",
            "text/plain": [
              "<Figure size 290x216 with 1 Axes>"
            ]
          },
          "metadata": {
            "tags": [],
            "needs_background": "light"
          }
        }
      ]
    },
    {
      "cell_type": "markdown",
      "metadata": {
        "id": "q0tlnMPRH-vG"
      },
      "source": [
        "Plot a pairplot"
      ]
    },
    {
      "cell_type": "code",
      "metadata": {
        "colab": {
          "base_uri": "https://localhost:8080/",
          "height": 1000
        },
        "id": "ZCSx7yPVH6vJ",
        "outputId": "8dd57062-85f7-4961-f7ad-c0913a050d7e"
      },
      "source": [
        "sns.pairplot(data)"
      ],
      "execution_count": 41,
      "outputs": [
        {
          "output_type": "execute_result",
          "data": {
            "text/plain": [
              "<seaborn.axisgrid.PairGrid at 0x7f27525d38d0>"
            ]
          },
          "metadata": {
            "tags": []
          },
          "execution_count": 41
        },
        {
          "output_type": "display_data",
          "data": {
            "image/png": "[encoded data removed]",
            "text/plain": [
              "<Figure size 1620x1620 with 90 Axes>"
            ]
          },
          "metadata": {
            "tags": [],
            "needs_background": "light"
          }
        }
      ]
    },
    {
      "cell_type": "markdown",
      "metadata": {
        "id": "wATQKuB2IV33"
      },
      "source": [
        "### **Matplotlib**"
      ]
    },
    {
      "cell_type": "markdown",
      "metadata": {
        "id": "Ci1-tBzbIc0N"
      },
      "source": [
        "Show the relationship between Total profit and no. of month using Line Plot"
      ]
    },
    {
      "cell_type": "code",
      "metadata": {
        "id": "u7HiVWZbICu6"
      },
      "source": [
        "import matplotlib.pyplot as plt"
      ],
      "execution_count": 42,
      "outputs": []
    },
    {
      "cell_type": "code",
      "metadata": {
        "colab": {
          "base_uri": "https://localhost:8080/",
          "height": 296
        },
        "id": "YsMs0bL8JJFg",
        "outputId": "209d6762-0f0d-425d-f17c-3ec653069a1f"
      },
      "source": [
        "profit = data[\"total_profit\"].tolist()\n",
        "month = data[\"month_number\"].tolist()\n",
        "plt.plot(month, profit)\n",
        "plt.xlabel(\"Month number\")\n",
        "plt.ylabel(\"Total Profit\")\n",
        "plt.legend([\"Profit line\"])"
      ],
      "execution_count": 43,
      "outputs": [
        {
          "output_type": "execute_result",
          "data": {
            "text/plain": [
              "<matplotlib.legend.Legend at 0x7f2750aa1890>"
            ]
          },
          "metadata": {
            "tags": []
          },
          "execution_count": 43
        },
        {
          "output_type": "display_data",
          "data": {
            "image/png": "[encoded data removed]",
            "text/plain": [
              "<Figure size 432x288 with 1 Axes>"
            ]
          },
          "metadata": {
            "tags": [],
            "needs_background": "light"
          }
        }
      ]
    },
    {
      "cell_type": "markdown",
      "metadata": {
        "id": "936akvfjN5Yo"
      },
      "source": [
        "Read all product sales data and show it using a multi line plot. Display the number of\n",
        "units sold per month for each product using multi line plots. (i.e., Separate Plotline for\n",
        "each product )"
      ]
    },
    {
      "cell_type": "code",
      "metadata": {
        "colab": {
          "base_uri": "https://localhost:8080/",
          "height": 312
        },
        "id": "3igv21iLKFDI",
        "outputId": "ed44e621-cbc0-42bc-f52a-513e86e7e77b"
      },
      "source": [
        "facecream = data['facecream'].tolist()\n",
        "facewash = data['facewash'].tolist()\n",
        "toothpaste = data['toothpaste'].tolist()\n",
        "bathingSoap = data['bathingsoap'].tolist()\n",
        "shampoo = data['shampoo'].tolist()\n",
        "moisturizer = data['moisturizer'].tolist()\n",
        "\n",
        "plt.plot(month, facecream, label='Face cream Sales Data', marker='o', linewidth=3)\n",
        "plt.plot(month, facewash, label='Face Wash Sales Data',  marker='o', linewidth=3)\n",
        "plt.plot(month, toothpaste, label='ToothPaste Sales Data', marker='o', linewidth=3)\n",
        "plt.plot(month, bathingSoap, label='BathingSoap Sales Data', marker='o', linewidth=3)\n",
        "plt.plot(month, shampoo, label='Shampoo Sales Data', marker='o', linewidth=3)\n",
        "plt.plot(month, moisturizer, label='Moisturizer Sales Data', marker='o', linewidth=3)\n",
        "\n",
        "plt.xlabel('Month Number')\n",
        "plt.ylabel('Sales units in number')\n",
        "plt.legend(loc='upper left')\n",
        "plt.xticks(month)\n",
        "plt.yticks([1000, 2000, 4000, 6000, 8000, 10000, 12000, 15000, 18000])\n",
        "plt.title('Sales data')"
      ],
      "execution_count": 44,
      "outputs": [
        {
          "output_type": "execute_result",
          "data": {
            "text/plain": [
              "Text(0.5, 1.0, 'Sales data')"
            ]
          },
          "metadata": {
            "tags": []
          },
          "execution_count": 44
        },
        {
          "output_type": "display_data",
          "data": {
            "image/png": "[encoded data removed]",
            "text/plain": [
              "<Figure size 432x288 with 1 Axes>"
            ]
          },
          "metadata": {
            "tags": [],
            "needs_background": "light"
          }
        }
      ]
    },
    {
      "cell_type": "markdown",
      "metadata": {
        "id": "cafqLPHKN_25"
      },
      "source": [
        "Plot a scatter plot between no. of month and toothpaste units sold. Add a gridline to the scatter plot"
      ]
    },
    {
      "cell_type": "code",
      "metadata": {
        "colab": {
          "base_uri": "https://localhost:8080/",
          "height": 295
        },
        "id": "-W81RadKNjpF",
        "outputId": "a502b19c-e85d-40bc-c132-19a78d58b953"
      },
      "source": [
        "plt.scatter(month, toothpaste, label='Tooth paste Sales data')\n",
        "plt.xlabel('Month Number')\n",
        "plt.ylabel('Number of units Sold')\n",
        "plt.legend(loc='upper left')\n",
        "plt.title('Tooth paste Sales data')\n",
        "plt.xticks(month)\n",
        "plt.grid(True, linewidth=1, linestyle=\"--\")"
      ],
      "execution_count": 45,
      "outputs": [
        {
          "output_type": "display_data",
          "data": {
            "image/png": "[encoded data removed]",
            "text/plain": [
              "<Figure size 432x288 with 1 Axes>"
            ]
          },
          "metadata": {
            "tags": [],
            "needs_background": "light"
          }
        }
      ]
    },
    {
      "cell_type": "markdown",
      "metadata": {
        "id": "0iL648fjPBrq"
      },
      "source": [
        "Plot a bar chart which displays the number of units sold per month for face cream and\n",
        "face wash. Add a separate bar for each product in the same chart(with grid lines)"
      ]
    },
    {
      "cell_type": "code",
      "metadata": {
        "colab": {
          "base_uri": "https://localhost:8080/",
          "height": 312
        },
        "id": "-1QfT4e3Onpg",
        "outputId": "a2c01c8e-e792-4cec-d14b-d4465cf7e405"
      },
      "source": [
        "plt.bar([a-0.25 for a in month], facecream, width= 0.25, label='Face Cream sales data', align='edge')\n",
        "plt.bar([a+0.25 for a in month], facewash, width= -0.25, label='Face Wash sales data', align='edge')\n",
        "plt.xlabel('Month Number')\n",
        "plt.ylabel('Sales units in number')\n",
        "plt.legend(loc='upper left')\n",
        "plt.title(' Sales data')\n",
        "\n",
        "plt.xticks(month)\n",
        "plt.grid(True, linewidth= 1, linestyle=\"--\")\n",
        "plt.title('Facewash and facecream sales data')"
      ],
      "execution_count": 46,
      "outputs": [
        {
          "output_type": "execute_result",
          "data": {
            "text/plain": [
              "Text(0.5, 1.0, 'Facewash and facecream sales data')"
            ]
          },
          "metadata": {
            "tags": []
          },
          "execution_count": 46
        },
        {
          "output_type": "display_data",
          "data": {
            "image/png": "[encoded data removed]",
            "text/plain": [
              "<Figure size 432x288 with 1 Axes>"
            ]
          },
          "metadata": {
            "tags": [],
            "needs_background": "light"
          }
        }
      ]
    },
    {
      "cell_type": "markdown",
      "metadata": {
        "id": "WPT7CEWlPuyz"
      },
      "source": [
        "Plot the total profit of each month and show it using the histogram to see the most\n",
        "common profit ranges"
      ]
    },
    {
      "cell_type": "code",
      "metadata": {
        "colab": {
          "base_uri": "https://localhost:8080/",
          "height": 312
        },
        "id": "10OnBWsCPlLR",
        "outputId": "1d1000d9-a0c7-45b8-c6f6-44c1d75d3a5b"
      },
      "source": [
        "labels = ['low', 'average', 'Good', 'Best']\n",
        "profit_range = [150000, 175000, 200000, 225000, 250000, 300000, 350000]\n",
        "plt.hist(profit, profit_range, label = 'Profit data')\n",
        "plt.xlabel('Profit Range')\n",
        "plt.ylabel('Actual Profit')\n",
        "plt.legend(loc='upper left')\n",
        "plt.xticks(profit_range)\n",
        "plt.title('Profit data')"
      ],
      "execution_count": 47,
      "outputs": [
        {
          "output_type": "execute_result",
          "data": {
            "text/plain": [
              "Text(0.5, 1.0, 'Profit data')"
            ]
          },
          "metadata": {
            "tags": []
          },
          "execution_count": 47
        },
        {
          "output_type": "display_data",
          "data": {
            "image/png": "[encoded data removed]",
            "text/plain": [
              "<Figure size 432x288 with 1 Axes>"
            ]
          },
          "metadata": {
            "tags": [],
            "needs_background": "light"
          }
        }
      ]
    },
    {
      "cell_type": "markdown",
      "metadata": {
        "id": "cJMxzvMEQMfz"
      },
      "source": [
        "Plot a pie chart for total sales data"
      ]
    },
    {
      "cell_type": "code",
      "metadata": {
        "colab": {
          "base_uri": "https://localhost:8080/",
          "height": 281
        },
        "id": "UwOEm1kwQE9N",
        "outputId": "84a41100-3e7d-4ffb-d308-928bf0f3595b"
      },
      "source": [
        "labels = ['FaceCream', 'FaceWash', 'ToothPaste', 'Bathing Soap', 'Shampoo', 'Moisturizer']\n",
        "salesData   = [data['facecream'].sum(), data['facewash'].sum(), data['toothpaste'].sum(), \n",
        "         data['bathingsoap'].sum(), data['shampoo'].sum(), data['moisturizer'].sum()]\n",
        "plt.axis(\"equal\")\n",
        "plt.pie(salesData, labels=labels, autopct='%1.1f%%')\n",
        "plt.legend(loc='upper left')\n",
        "plt.title('Sales Data')"
      ],
      "execution_count": 48,
      "outputs": [
        {
          "output_type": "execute_result",
          "data": {
            "text/plain": [
              "Text(0.5, 1.0, 'Sales Data')"
            ]
          },
          "metadata": {
            "tags": []
          },
          "execution_count": 48
        },
        {
          "output_type": "display_data",
          "data": {
            "image/png": "[encoded data removed]",
            "text/plain": [
              "<Figure size 432x288 with 1 Axes>"
            ]
          },
          "metadata": {
            "tags": []
          }
        }
      ]
    },
    {
      "cell_type": "markdown",
      "metadata": {
        "id": "eW_gi_--Qoo8"
      },
      "source": [
        "Read all product sales data and show it using the stack plot"
      ]
    },
    {
      "cell_type": "code",
      "metadata": {
        "colab": {
          "base_uri": "https://localhost:8080/",
          "height": 312
        },
        "id": "6aYEur4SQd0h",
        "outputId": "227d3236-9256-46e7-c685-0407c9be7d3c"
      },
      "source": [
        "plt.plot([],[],color='m', label='Face Cream', linewidth=5)\n",
        "plt.plot([],[],color='c', label='Face wash', linewidth=5)\n",
        "plt.plot([],[],color='r', label='Tooth Paste', linewidth=5)\n",
        "plt.plot([],[],color='k', label='Bathing Soap', linewidth=5)\n",
        "plt.plot([],[],color='g', label='Shampoo', linewidth=5)\n",
        "plt.plot([],[],color='y', label='Moisturizer', linewidth=5)\n",
        "\n",
        "plt.stackplot(month, facecream, facewash, toothpaste, \n",
        "              bathingSoap, shampoo, moisturizer, \n",
        "              colors=['m','c','r','k','g','y'])\n",
        "\n",
        "plt.xlabel('Month Number')\n",
        "plt.ylabel('Sales units in Number')\n",
        "plt.title('All product sales data using stack plot')\n",
        "plt.legend(loc='upper left')"
      ],
      "execution_count": 49,
      "outputs": [
        {
          "output_type": "execute_result",
          "data": {
            "text/plain": [
              "<matplotlib.legend.Legend at 0x7f274ea5c410>"
            ]
          },
          "metadata": {
            "tags": []
          },
          "execution_count": 49
        },
        {
          "output_type": "display_data",
          "data": {
            "image/png": "[encoded data removed]",
            "text/plain": [
              "<Figure size 432x288 with 1 Axes>"
            ]
          },
          "metadata": {
            "tags": [],
            "needs_background": "light"
          }
        }
      ]
    },
    {
      "cell_type": "markdown",
      "metadata": {
        "id": "Y9_3SkeKRCGy"
      },
      "source": [
        "### **Write about evaluation reports and types of it**"
      ]
    },
    {
      "cell_type": "markdown",
      "metadata": {
        "id": "2EAuayK1Ry-v"
      },
      "source": [
        "An evaluation report is a paper that examines whether a product, service, or process is working, according to a set of standards. It includes an introduction, background information, criteria, evaluation, conclusions, and recommendation.\n",
        "\n",
        "Types of evaluation reports are:\n",
        "* Formative evaluation\n",
        "* Process evaluation\n",
        "* Outcome evaluation\n",
        "* Summative evaluation\n",
        "* Impact evaluation\n",
        "\n",
        "\n",
        "\n",
        "\n",
        "\n",
        "\n",
        "\n"
      ]
    }
  ]
}
